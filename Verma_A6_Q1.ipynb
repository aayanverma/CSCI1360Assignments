{
 "cells": [
  {
   "cell_type": "markdown",
   "metadata": {
    "nbgrader": {
     "grade": false,
     "grade_id": "q1",
     "locked": true,
     "schema_version": 1,
     "solution": false
    }
   },
   "source": [
    "# Question 1\n",
    "\n",
    "In this question, you'll work with parametric distributions."
   ]
  },
  {
   "cell_type": "markdown",
   "metadata": {
    "nbgrader": {
     "grade": false,
     "grade_id": "q1a_prompt",
     "locked": true,
     "schema_version": 1,
     "solution": false
    }
   },
   "source": [
    "### Part A\n",
    "\n",
    "Recall from earlier lectures when we discussed flipping a coin. There is an actual distribution for this: the *Bernoulli* distribution. It measures probability of success or failure, 1 or 0. The only parameter to this distribution is $p$, or the probability of success (e.g., flipping heads).\n",
    "\n",
    "Write a function which\n",
    "\n",
    " - is named **`flip()`**\n",
    " - takes one argument $p$, a float between 0 and 1, indicating the probability of Heads\n",
    " - returns 1 on success, 0 otherwise.\n",
    "\n",
    "The only outside function you can use inside `flip` is `numpy.random.random()` with no arguments. It returns a random floating-point number between 0 and 1, which you'll essentially use as a coin flip. You wrote a simillar program in the in-class activity for probablity."
   ]
  },
  {
   "cell_type": "code",
   "execution_count": 1,
   "metadata": {
    "nbgrader": {
     "grade": false,
     "grade_id": "q1a",
     "locked": false,
     "schema_version": 1,
     "solution": true
    }
   },
   "outputs": [],
   "source": [
    "import numpy as np\n",
    "def flip(p):\n",
    "    result = p /np.random.random()\n",
    "    if result > 1:\n",
    "        result = 1\n",
    "    result = int(result)\n",
    "    return result\n"
   ]
  },
  {
   "cell_type": "code",
   "execution_count": 2,
   "metadata": {
    "nbgrader": {
     "grade": true,
     "grade_id": "q1a_test1",
     "locked": true,
     "points": 5,
     "schema_version": 1,
     "solution": false
    }
   },
   "outputs": [],
   "source": [
    "np.testing.assert_allclose(flip(1.0), 1.0, rtol = 0.01)"
   ]
  },
  {
   "cell_type": "code",
   "execution_count": 3,
   "metadata": {
    "nbgrader": {
     "grade": true,
     "grade_id": "q1a_test2",
     "locked": true,
     "points": 5,
     "schema_version": 1,
     "solution": false
    }
   },
   "outputs": [],
   "source": [
    "np.testing.assert_allclose(flip(0.0), 0.0, rtol = 0.01)"
   ]
  },
  {
   "cell_type": "code",
   "execution_count": 4,
   "metadata": {
    "nbgrader": {
     "grade": true,
     "grade_id": "q1a_test3",
     "locked": true,
     "points": 5,
     "schema_version": 1,
     "solution": false
    }
   },
   "outputs": [
    {
     "name": "stderr",
     "output_type": "stream",
     "text": [
      "/var/folders/df/qv5sfyrd7ybf4qzkkr7z0ql00000gn/T/ipykernel_14737/1568102955.py:1: DeprecationWarning: `np.int` is a deprecated alias for the builtin `int`. To silence this warning, use `int` by itself. Doing this will not modify any behavior and is safe. When replacing `np.int`, you may wish to use e.g. `np.int64` or `np.int32` to specify the precision. If you wish to review your current use, check the release note link for additional information.\n",
      "Deprecated in NumPy 1.20; for more details and guidance: https://numpy.org/devdocs/release/1.20.0-notes.html#deprecations\n",
      "  results = np.zeros(10000, dtype = np.int)\n"
     ]
    }
   ],
   "source": [
    "results = np.zeros(10000, dtype = np.int)\n",
    "for i in range(10000):\n",
    "    results[i] = flip(0.5)\n",
    "np.testing.assert_allclose(results.mean(), 0.5, rtol = 0.1)"
   ]
  },
  {
   "cell_type": "markdown",
   "metadata": {
    "nbgrader": {
     "grade": false,
     "grade_id": "q1b_prompt",
     "locked": true,
     "schema_version": 1,
     "solution": false
    }
   },
   "source": [
    "### Part B\n",
    "\n",
    "A generalization of the Bernoulli distribution is the *Binomial* distribution, which also has a probability of success $p$, but also has a number of experiments $n$. Using the coin-flip analogy, $n$ is the number of times you want to flip the coin and record its result.\n",
    "\n",
    "Write a function which\n",
    "\n",
    " - is named **`nflips()`**\n",
    " - takes two arguments: $p$, the probability of Heads (same as Part A), and $n$, the number of times to flip the coin\n",
    " - returns an array of $n$ 1s and 0s, the outcome of each coin flip\n",
    "\n",
    "Hint: you can make use of your `flip()` function from earlier."
   ]
  },
  {
   "cell_type": "code",
   "execution_count": 6,
   "metadata": {
    "nbgrader": {
     "grade": false,
     "grade_id": "q1b",
     "locked": false,
     "schema_version": 1,
     "solution": true
    }
   },
   "outputs": [],
   "source": [
    "import numpy as np\n",
    "def nflips(p, n):\n",
    "    outcome = []\n",
    "    while n > 0:\n",
    "        result = flip(p)\n",
    "        outcome.append(result)\n",
    "        n -= 1\n",
    "    return outcome"
   ]
  },
  {
   "cell_type": "code",
   "execution_count": 7,
   "metadata": {
    "nbgrader": {
     "grade": true,
     "grade_id": "q1b_test1",
     "locked": true,
     "points": 5,
     "schema_version": 1,
     "solution": false
    }
   },
   "outputs": [],
   "source": [
    "import numpy as np\n",
    "assert (np.array(nflips(1.0, 1000)) == 1).all()"
   ]
  },
  {
   "cell_type": "code",
   "execution_count": 8,
   "metadata": {
    "nbgrader": {
     "grade": true,
     "grade_id": "q1b_test2",
     "locked": true,
     "points": 5,
     "schema_version": 1,
     "solution": false
    }
   },
   "outputs": [],
   "source": [
    "assert (np.array(nflips(0.0, 1000)) == 0).all()"
   ]
  },
  {
   "cell_type": "code",
   "execution_count": 9,
   "metadata": {
    "nbgrader": {
     "grade": true,
     "grade_id": "q1b_test3",
     "locked": true,
     "points": 5,
     "schema_version": 1,
     "solution": false
    }
   },
   "outputs": [],
   "source": [
    "results = np.array(nflips(0.5, 10000))\n",
    "np.testing.assert_allclose(results.mean(), 0.5, rtol = 0.1)"
   ]
  },
  {
   "cell_type": "markdown",
   "metadata": {},
   "source": [
    "### Part C\n",
    "\n",
    "I use your `nflips` function from Part B, and set `n = 1000`. Let $X$ be the number of heads from Part B, and $Y$ the number of tails. Are $X$ and $Y$ dependent or independent random variables? Why or why not?"
   ]
  },
  {
   "cell_type": "markdown",
   "metadata": {},
   "source": [
    "Type Markdown and LaTeX:  𝛼2\n"
   ]
  },
  {
   "cell_type": "code",
   "execution_count": null,
   "metadata": {},
   "outputs": [],
   "source": [
    "## they are independent random variables due to the outcome of one flip not affecting any other flips. \n",
    "##Because probablility has no memory therefore the 1st coin flip has the same chances as the 500th \n",
    "##"
   ]
  }
 ],
 "metadata": {
  "celltoolbar": "Create Assignment",
  "kernelspec": {
   "display_name": "Python 3 (ipykernel)",
   "language": "python",
   "name": "python3"
  },
  "language_info": {
   "codemirror_mode": {
    "name": "ipython",
    "version": 3
   },
   "file_extension": ".py",
   "mimetype": "text/x-python",
   "name": "python",
   "nbconvert_exporter": "python",
   "pygments_lexer": "ipython3",
   "version": "3.9.12"
  }
 },
 "nbformat": 4,
 "nbformat_minor": 1
}
