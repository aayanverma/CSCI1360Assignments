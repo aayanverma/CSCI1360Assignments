{
 "cells": [
  {
   "cell_type": "markdown",
   "metadata": {
    "collapsed": true,
    "nbgrader": {
     "grade": false,
     "grade_id": "a1_header",
     "locked": true,
     "solution": false
    }
   },
   "source": [
    "##### Assignment 2\n",
    "CSCI 1360\n",
    "\n",
    "### Important Dates\n",
    "\n",
    " - Released: June 14th \n",
    " - Deadline: June 23th at 5:00 pm\n",
    "\n",
    "### Grading Breakdown\n",
    "- Q1: 35pts (each part 6pts)\n",
    "- Q2: 35pts\n",
    "- Q3: 30pts\n",
    "\n",
    "Total: 100pts\n",
    "\n",
    "\n",
    "### Overview\n",
    "This homework assignment is meant to reinforce the basics of Python that we've been going over in the last couple weeks: data types, data structures, and looping."
   ]
  },
  {
   "cell_type": "markdown",
   "metadata": {},
   "source": [
    "## What to Submit\n",
    "In this assignment, you will create one small python program. The name of the file should be YourLastName_A2.ipynb (for example Amirian_A2.ipynb). The source file (ending in .ipynb) should be submitted to the course eLC site. Detailed instructions on how to do this are included as the following part of this document.\n",
    "\n",
    "## eLC Submission and Grading\n",
    "After you have completed and thoroughly tested your program, upload and submit .ipynb file to eLC in the Assignment Dropbox. Always double check that your submission was successful on eLC and double check that you submitted the correct version of your completed program.  \n",
    "\n",
    "The Assignment will be graded according to the following guidelines. \n",
    "\n",
    "•\tA score between 0 and 100 will be assigned. \n",
    "\n",
    "•\tIf the source file(s) are not submitted before the specified deadline’s late period ends (48 hours after the deadline) or if they do not compile, then a grade of 0 will be assigned. \n",
    "\n",
    "•\t25 points will be deducted for Assignments submitted late (note: Assignment can only be submitted up to 48 hours late, after 48 hours, a grade of zero will be assigned). "
   ]
  },
  {
   "cell_type": "markdown",
   "metadata": {},
   "source": [
    "# Question 1\n",
    "\n",
    "In this question, you'll write some coding that performs string manipulation.\n",
    "\n",
    "The first cell block is where you put your answer. There may already be some code there, in which case **don't remove it**; just add what is asked for.\n",
    "\n",
    "All the cells under the first one are autograder cells; don't edit those! But you can run them (using the Run button at the top) to test your own code! If they don't spit out any error messages, then your code works!\n",
    "\n",
    "### Part A\n",
    "\n",
    "What's your favorite *positive* number? Create a variable named `favorite_number` and assign it to be your favorite *positive* number."
   ]
  },
  {
   "cell_type": "code",
   "execution_count": 1,
   "metadata": {},
   "outputs": [],
   "source": [
    "favorite_number = 10"
   ]
  },
  {
   "cell_type": "code",
   "execution_count": 2,
   "metadata": {},
   "outputs": [
    {
     "name": "stdout",
     "output_type": "stream",
     "text": [
      "My favorite number is: 10\n"
     ]
    }
   ],
   "source": [
    "print(\"My favorite number is: \" + str(favorite_number))\n",
    "assert favorite_number >= 0"
   ]
  },
  {
   "cell_type": "markdown",
   "metadata": {},
   "source": [
    "### Part B\n",
    "\n",
    "Print out a famous quote! In the code below, create two variables:\n",
    " - one named `famous_person`,\n",
    " - the other named `their_quote`,\n",
    " \n",
    "and assign them to be the name of some famous person and a quote that they said, respectively. Remember: these are *strings*!"
   ]
  },
  {
   "cell_type": "code",
   "execution_count": 5,
   "metadata": {},
   "outputs": [],
   "source": [
    "famous_person = \"Tom Brady\"\n",
    "their_quote = \"My favorite ring is the next one\""
   ]
  },
  {
   "cell_type": "code",
   "execution_count": 6,
   "metadata": {},
   "outputs": [
    {
     "name": "stdout",
     "output_type": "stream",
     "text": [
      "Tom Brady, at age 10, said:\n",
      "\n",
      "\"My favorite ring is the next one\"\n"
     ]
    }
   ],
   "source": [
    "print(\"{}, at age {}, said:\\n\\n\\\"{}\\\"\".format(famous_person, favorite_number, their_quote))\n",
    "\n",
    "assert len(famous_person) > 0\n",
    "assert len(their_quote) > 0"
   ]
  },
  {
   "cell_type": "markdown",
   "metadata": {},
   "source": [
    "### Part C\n",
    "\n",
    "You're working late on a homework assignment and have copied a few lines from a Wikipedia article. In your tired stupor, your copy/paste skills leave something to be desired. Rather than try to force your mouse hand to stop shaking, you figure it's easier to write a small Python program to strip out errant whitespace from your copying-pasting.\n",
    "\n",
    "**Leaving the code below as-is**, **add more code** that strips away whitespace in the variables `line1`, `line2`, and `line3`.\n",
    "\n",
    "In other words, reassign each of the three variables (keeping their names the same, and their respective content otherwise unaltered) so that the leading and trailing whitespace on both ends is removed."
   ]
  },
  {
   "cell_type": "code",
   "execution_count": 8,
   "metadata": {},
   "outputs": [
    {
     "data": {
      "text/plain": [
       "'system and automatic memory management and has a large and comprehensive standard library.'"
      ]
     },
     "execution_count": 8,
     "metadata": {},
     "output_type": "execute_result"
    }
   ],
   "source": [
    "line1 = 'Python supports multiple programming paradigms, including object-oriented, imperative\\n'\n",
    "line2 = '  and functional programming or procedural styles. It features a dynamic type\\n'\n",
    "line3 = ' system and automatic memory management and has a large and comprehensive standard library.\\n '\n",
    "\n",
    "### BEGIN SOLUTION\n",
    "line1 = line1.strip()\n",
    "line2 = line2.strip()\n",
    "line3 = line3.strip()\n",
    "### END SOLUTION"
   ]
  },
  {
   "cell_type": "code",
   "execution_count": 9,
   "metadata": {},
   "outputs": [
    {
     "ename": "AssertionError",
     "evalue": "",
     "output_type": "error",
     "traceback": [
      "\u001b[0;31m---------------------------------------------------------------------------\u001b[0m",
      "\u001b[0;31mAssertionError\u001b[0m                            Traceback (most recent call last)",
      "Input \u001b[0;32mIn [9]\u001b[0m, in \u001b[0;36m<cell line: 1>\u001b[0;34m()\u001b[0m\n\u001b[0;32m----> 1\u001b[0m \u001b[38;5;28;01massert\u001b[39;00m line1[\u001b[38;5;241m-\u001b[39m\u001b[38;5;241m1\u001b[39m] \u001b[38;5;241m!=\u001b[39m \u001b[38;5;124m'\u001b[39m\u001b[38;5;130;01m\\n\u001b[39;00m\u001b[38;5;124m'\u001b[39m\n\u001b[1;32m      2\u001b[0m \u001b[38;5;28;01massert\u001b[39;00m line2[\u001b[38;5;241m0\u001b[39m] \u001b[38;5;241m!=\u001b[39m line2[\u001b[38;5;241m1\u001b[39m] \u001b[38;5;241m!=\u001b[39m \u001b[38;5;124m'\u001b[39m\u001b[38;5;124m \u001b[39m\u001b[38;5;124m'\u001b[39m\n\u001b[1;32m      3\u001b[0m \u001b[38;5;28;01massert\u001b[39;00m line2[\u001b[38;5;241m-\u001b[39m\u001b[38;5;241m1\u001b[39m] \u001b[38;5;241m!=\u001b[39m \u001b[38;5;124m'\u001b[39m\u001b[38;5;130;01m\\n\u001b[39;00m\u001b[38;5;124m'\u001b[39m\n",
      "\u001b[0;31mAssertionError\u001b[0m: "
     ]
    }
   ],
   "source": [
    "assert line1[-1] != '\\n'\n",
    "assert line2[0] != line2[1] != ' '\n",
    "assert line2[-1] != '\\n'\n",
    "assert line3[0] != ' '\n",
    "assert line3[-1] != '\\n'"
   ]
  },
  {
   "cell_type": "markdown",
   "metadata": {},
   "source": [
    "### Part D\n",
    "\n",
    "You discover that there are numbers in the text you'd like to be able to parse out for some math down the road. After stripping out the trailing whitespace, convert the numbers to their proper numerical form.\n",
    "\n",
    "Assign them to the variables `num1`, `num2`, and `num3` respectively."
   ]
  },
  {
   "cell_type": "code",
   "execution_count": 11,
   "metadata": {},
   "outputs": [
    {
     "name": "stdout",
     "output_type": "stream",
     "text": [
      "495.59863\n",
      "134\n",
      "-5.4\n"
     ]
    }
   ],
   "source": [
    "line1 = ' 495.59863 \\n'\n",
    "line2 = '\\t134  '\n",
    "line3 = '\\n\\t -5.4 \\t'\n",
    "\n",
    "### BEGIN SOLUTION\n",
    "line1 = line1.strip()\n",
    "line2 = line2.strip()\n",
    "line3 = line3.strip()\n",
    "\n",
    "num1 = float(line1)\n",
    "num2 = int(line2)\n",
    "num3 = float(line3)\n",
    "\n",
    "print(num1)\n",
    "print(num2)\n",
    "print(num3)\n",
    "\n",
    "### END SOLUTION"
   ]
  },
  {
   "cell_type": "code",
   "execution_count": null,
   "metadata": {},
   "outputs": [],
   "source": [
    "assert num1 > 495 and num1 < 496\n",
    "assert num2 == 134\n",
    "assert num3 > -6 and num3 < -5"
   ]
  },
  {
   "cell_type": "markdown",
   "metadata": {},
   "source": [
    "### Part E\n",
    "\n",
    "Take the `number` below, find its square root, convert it to a string, and then assign it to a variable named `str_version`.\n",
    "\n",
    "You **must use the correct arithmetic operator for the square root, as well as the correct casting function for the string conversion**.\n",
    "\n",
    "**No imports allowed!**"
   ]
  },
  {
   "cell_type": "code",
   "execution_count": null,
   "metadata": {},
   "outputs": [],
   "source": [
    "number = 3.14159265359\n",
    "\n",
    "### BEGIN SOLUTION\n",
    "number = number ** (1/2)\n",
    "str_version = str(number)\n",
    "### END SOLUTION"
   ]
  },
  {
   "cell_type": "code",
   "execution_count": null,
   "metadata": {},
   "outputs": [],
   "source": [
    "assert str_version == \"1.7724538509055743\""
   ]
  },
  {
   "cell_type": "markdown",
   "metadata": {},
   "source": [
    "# Question 2\n",
    "\n",
    "In this question, we'll dive a bit deeper into some arithmetic operations.\n",
    "\n",
    "\n",
    "### Part A\n",
    "\n",
    "Five numbers are given below. Keeping them in that same order, compute a single result with Python addition, multiplication, subtraction, and division, respectively.\n",
    "\n",
    "Put another way--add the first and second numbers, multiply the second and third numbers, subtract the third and fourth numbers, and divide the fourth and fifth numbers. Don't use any parentheses; let order of operations take care of things. Do this in a single statement, and store the result in the `result` variable below."
   ]
  },
  {
   "cell_type": "code",
   "execution_count": null,
   "metadata": {},
   "outputs": [],
   "source": [
    "n1 = 0.4589\n",
    "n2 = 13\n",
    "n3 = -59\n",
    "n4 = 8.43333333\n",
    "n5 = 2.1\n",
    "\n",
    "result = -1\n",
    "\n",
    "### BEGIN SOLUTION\n",
    "result = n1 + n2 * n3 - n4 / n5\n",
    "### END SOLUTION"
   ]
  },
  {
   "cell_type": "code",
   "execution_count": null,
   "metadata": {},
   "outputs": [],
   "source": [
    "import numpy as np\n",
    "np.testing.assert_allclose(result, -770.5569730142857)"
   ]
  },
  {
   "cell_type": "markdown",
   "metadata": {},
   "source": [
    "### Part B\n",
    "\n",
    "Using the same five numbers as before, this time use parentheses around your arithmetic operation to enforce that the *addition* and *subtraction* operations should happen before the others. Again, store your result in the variable `result`."
   ]
  },
  {
   "cell_type": "code",
   "execution_count": null,
   "metadata": {},
   "outputs": [],
   "source": [
    "n1 = 0.4589\n",
    "n2 = 13\n",
    "n3 = -59\n",
    "n4 = 8.43333333\n",
    "n5 = 2.1\n",
    "\n",
    "result = -1\n",
    "\n",
    "### BEGIN SOLUTION\n",
    "result = (n1 + n2) * (n3 - n4) / n5\n",
    "### END SOLUTION"
   ]
  },
  {
   "cell_type": "code",
   "execution_count": null,
   "metadata": {},
   "outputs": [],
   "source": [
    "import numpy as np\n",
    "np.testing.assert_allclose(result, -432.1802333119699)"
   ]
  },
  {
   "cell_type": "markdown",
   "metadata": {},
   "source": [
    "### Part C\n",
    "\n",
    "Repeat the steps you took in Part B, this time casting each variable to an integer data type before performing any computation. Store your answer in the variable `result`."
   ]
  },
  {
   "cell_type": "code",
   "execution_count": null,
   "metadata": {},
   "outputs": [],
   "source": [
    "n1 = 0.4589\n",
    "n2 = 13\n",
    "n3 = -59\n",
    "n4 = 8.43333333\n",
    "n5 = 2.1\n",
    "\n",
    "result = -1\n",
    "\n",
    "### BEGIN SOLUTION\n",
    "n1 = int(n1)\n",
    "n2 = int(n2)\n",
    "n3 = int(n3)\n",
    "n4 = int(n4)\n",
    "n5 = int(n5)\n",
    "\n",
    "result = (n1 + n2) * (n3 - n4) / n5\n",
    "### END SOLUTION"
   ]
  },
  {
   "cell_type": "code",
   "execution_count": null,
   "metadata": {},
   "outputs": [],
   "source": [
    "assert result == -435.5"
   ]
  },
  {
   "cell_type": "markdown",
   "metadata": {},
   "source": [
    "### Part D\n",
    "\n",
    "Two numbers are given below. When you perform the operation `n1 / n2`, what is the quotient? Store this quantity in the variable named `quotient`."
   ]
  },
  {
   "cell_type": "code",
   "execution_count": null,
   "metadata": {},
   "outputs": [],
   "source": [
    "n1 = 20344983945038.48374839\n",
    "n2 = 984374.783894273\n",
    "\n",
    "quotient = -1\n",
    "\n",
    "### BEGIN SOLUTION\n",
    "quotient = n1 / n2\n",
    "### END SOLUTION"
   ]
  },
  {
   "cell_type": "code",
   "execution_count": null,
   "metadata": {},
   "outputs": [],
   "source": [
    "import numpy as np\n",
    "np.testing.assert_allclose(quotient, 20667924.735487375)"
   ]
  },
  {
   "cell_type": "markdown",
   "metadata": {},
   "source": [
    "### Part E\n",
    "\n",
    "You've seen in lecture how, when two numbers in Python are divided, their result is a float. What if you *really* wanted the output of division to be an integer? See if you can make that happen by modifying the following single line of code.\n",
    "\n",
    "(You are **not** allowed to add any numbers or additional lines of code!)"
   ]
  },
  {
   "cell_type": "code",
   "execution_count": null,
   "metadata": {},
   "outputs": [],
   "source": [
    "integer_quotient = int(32 / 16)\n",
    "\n",
    "### BEGIN SOLUTION\n",
    "\n",
    "### END SOLUTION"
   ]
  },
  {
   "cell_type": "code",
   "execution_count": null,
   "metadata": {},
   "outputs": [],
   "source": [
    "assert type(integer_quotient) == int"
   ]
  },
  {
   "cell_type": "markdown",
   "metadata": {},
   "source": [
    "# Question 3\n",
    "\n",
    "In this question, we'll focus on looping.\n",
    "### Part A\n",
    "\n",
    "In the question below, you'll write code that generates a new list, `reverse`, that is the same as the input list except with its elements backwards relative to the original.\n",
    "\n",
    "As an example, if the input list is `[1, 2, 3]`, the output list `reverse` should be `[3, 2, 1]`.\n",
    "\n",
    "**You have to use loops** to answer this question! `[::-1]` is a neat trick that you should definitely use, and `reversed` is a great function you should also definitely use, but you just can't use them here."
   ]
  },
  {
   "cell_type": "code",
   "execution_count": 14,
   "metadata": {},
   "outputs": [],
   "source": [
    "def reverse_list(inlist):\n",
    "    reverse = []\n",
    "\n",
    "    ### BEGIN SOLUTION\n",
    "    for i in range(len(inlist)):\n",
    "        last = inlist.pop()\n",
    "        reverse.insert(i, last)\n",
    "    ### END SOLUTION\n",
    "    \n",
    "    return reverse"
   ]
  },
  {
   "cell_type": "code",
   "execution_count": 15,
   "metadata": {},
   "outputs": [],
   "source": [
    "t1 = [1, 2, 3]\n",
    "t2 = [3, 2, 1]\n",
    "assert t2 == reverse_list(t1)"
   ]
  },
  {
   "cell_type": "code",
   "execution_count": 16,
   "metadata": {},
   "outputs": [],
   "source": [
    "t1 = [2, 6, 52, 64, 3.4, \"something\", 3, 6.2]\n",
    "t2 = [6.2, 3, \"something\", 3.4, 64, 52, 6, 2]\n",
    "assert t1 == reverse_list(t2)"
   ]
  },
  {
   "cell_type": "markdown",
   "metadata": {},
   "source": [
    "### Part B\n",
    "\n",
    "This time, you'll implement a method for computing the average value of a list of numbers. Remember how to compute an average: add up all the values, then divide that sum by the number of values you initially added together.\n",
    "\n",
    "Example Input: [2, 1, 4, 3]\n",
    "\n",
    "Example Output: 2.5\n",
    "\n",
    "Aside from `len()`, you **cannot** use built-in functions like `sum()` or import any packages to help you out. You have to write this on your own!"
   ]
  },
  {
   "cell_type": "code",
   "execution_count": 17,
   "metadata": {},
   "outputs": [],
   "source": [
    "def average(numbers):\n",
    "    avg_val = 0.0\n",
    "    \n",
    "    ### BEGIN SOLUTION\n",
    "    sum_num = 0\n",
    "    for i in numbers:\n",
    "        sum_num = sum_num + i\n",
    "        \n",
    "    avg_val = sum_num / len(numbers)\n",
    "        \n",
    "    ### END SOLUTION\n",
    "    \n",
    "    return avg_val"
   ]
  },
  {
   "cell_type": "code",
   "execution_count": 18,
   "metadata": {},
   "outputs": [],
   "source": [
    "import numpy as np\n",
    "\n",
    "inlist = np.random.randint(10, 100, 10).tolist()\n",
    "np.testing.assert_allclose(average(inlist), np.mean(inlist))"
   ]
  },
  {
   "cell_type": "code",
   "execution_count": 19,
   "metadata": {},
   "outputs": [],
   "source": [
    "inlist = np.random.randint(10, 1000, 10).tolist()\n",
    "np.testing.assert_allclose(average(inlist), np.mean(inlist))"
   ]
  },
  {
   "cell_type": "markdown",
   "metadata": {},
   "source": [
    "### Part C\n",
    "\n",
    "In this question, the function below `first_negative` takes a list of numbers (creatively-named `numbers`). Your goal is to write a `while` loop that searches for the **first negative number** in the list.\n",
    "\n",
    "You should set the variable `num` equal to that negative number.\n",
    "\n",
    "If there is no negative number in the list (all the numbers are `>= 0`), just return 0."
   ]
  },
  {
   "cell_type": "code",
   "execution_count": 20,
   "metadata": {},
   "outputs": [],
   "source": [
    "def first_negative(numbers):\n",
    "    num = 0\n",
    "    \n",
    "    ### BEGIN SOLUTION\n",
    "    a = 0\n",
    "    while a < len(numbers):\n",
    "        if numbers[a] < 0:\n",
    "            num = numbers[a]\n",
    "            return num\n",
    "        \n",
    "    if num >= 0:\n",
    "        return 0\n",
    "    \n",
    "        a += 1\n",
    "    \n",
    "    \n",
    "    ### END SOLUTION\n",
    "    \n",
    "    return num"
   ]
  },
  {
   "cell_type": "code",
   "execution_count": null,
   "metadata": {},
   "outputs": [],
   "source": [
    "inlist1 = [1, 4, -22, -39, 1, 8, 27, 6, 27, -12]\n",
    "a1 = -22\n",
    "assert a1 == first_negative(inlist1)"
   ]
  },
  {
   "cell_type": "code",
   "execution_count": null,
   "metadata": {},
   "outputs": [],
   "source": [
    "inlist2 = [-29, -1, 49, -33, 49, -40, -7, 33, 36, 41]\n",
    "a2 = -29\n",
    "assert a2 == first_negative(inlist2)"
   ]
  },
  {
   "cell_type": "code",
   "execution_count": null,
   "metadata": {},
   "outputs": [],
   "source": []
  }
 ],
 "metadata": {
  "celltoolbar": "Create Assignment",
  "kernelspec": {
   "display_name": "Python 3 (ipykernel)",
   "language": "python",
   "name": "python3"
  },
  "language_info": {
   "codemirror_mode": {
    "name": "ipython",
    "version": 3
   },
   "file_extension": ".py",
   "mimetype": "text/x-python",
   "name": "python",
   "nbconvert_exporter": "python",
   "pygments_lexer": "ipython3",
   "version": "3.9.12"
  }
 },
 "nbformat": 4,
 "nbformat_minor": 1
}
