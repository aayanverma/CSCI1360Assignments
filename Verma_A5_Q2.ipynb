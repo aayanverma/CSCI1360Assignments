{
 "cells": [
  {
   "cell_type": "markdown",
   "metadata": {
    "nbgrader": {
     "grade": false,
     "grade_id": "q2_prompt",
     "locked": true,
     "schema_version": 1,
     "solution": false
    }
   },
   "source": [
    "# Question 2\n",
    "\n",
    "In this question, you'll go over some of the core terms and concepts in statistics."
   ]
  },
  {
   "cell_type": "markdown",
   "metadata": {
    "nbgrader": {
     "grade": false,
     "grade_id": "q2a_prompt",
     "locked": true,
     "schema_version": 1,
     "solution": false
    }
   },
   "source": [
    "### Part A\n",
    "\n",
    "Write a function, `variance`, which computes the variance of a list of numbers.\n",
    "\n",
    "The function takes one argument: a list or 1D NumPy array of numbers. It returns one floating-point number: the variance of all the numbers.\n",
    "\n",
    "Recall the formula for variance:\n",
    "\n",
    "$$\n",
    "variance = \\frac{1}{N - 1} \\sum_{i = 1}^{N} (x_i - \\mu_x)^2\n",
    "$$\n",
    "\n",
    "where $N$ is the number of numbers in your list, $x_i$ is the number at index $i$ in the list, and $\\mu_x$ is the average value of all the $x$ values.\n",
    "\n",
    "You can use `numpy.array` and your `numpy.mean` functions, but no other NumPy functions or built-in Python functions other than `range()`."
   ]
  },
  {
   "cell_type": "code",
   "execution_count": 5,
   "metadata": {
    "nbgrader": {
     "grade": false,
     "grade_id": "q2a",
     "locked": false,
     "schema_version": 1,
     "solution": true
    }
   },
   "outputs": [],
   "source": [
    "import numpy as np\n",
    "def variance(numbers):\n",
    "    count = 0\n",
    "    total = 0\n",
    "    \n",
    "    for value in numbers:\n",
    "        total += value\n",
    "        count += 1\n",
    "        \n",
    "    if count > 1:\n",
    "        average = total / count\n",
    "        \n",
    "        var = 0\n",
    "        \n",
    "        for value in numbers:\n",
    "            var += (value - average) ** 2\n",
    "            \n",
    "        var = var / (count - 1)\n",
    "        \n",
    "    else:\n",
    "        var = None\n",
    "        \n",
    "    return var"
   ]
  },
  {
   "cell_type": "code",
   "execution_count": 6,
   "metadata": {
    "nbgrader": {
     "grade": true,
     "grade_id": "q2a_test1",
     "locked": true,
     "points": 10,
     "schema_version": 1,
     "solution": false
    }
   },
   "outputs": [],
   "source": [
    "import numpy as np\n",
    "\n",
    "np.random.seed(5987968)\n",
    "x = np.random.random(8491)\n",
    "v = x.var(ddof = 1)\n",
    "np.testing.assert_allclose(v, variance(x))"
   ]
  },
  {
   "cell_type": "code",
   "execution_count": 7,
   "metadata": {
    "nbgrader": {
     "grade": true,
     "grade_id": "q2a_test2",
     "locked": true,
     "points": 10,
     "schema_version": 1,
     "solution": false
    }
   },
   "outputs": [],
   "source": [
    "np.random.seed(4159)\n",
    "y = np.random.random(25)\n",
    "w = y.var(ddof = 1)\n",
    "np.testing.assert_allclose(w, variance(y))"
   ]
  },
  {
   "cell_type": "markdown",
   "metadata": {
    "nbgrader": {
     "grade": false,
     "grade_id": "q2b_prompt",
     "locked": true,
     "schema_version": 1,
     "solution": false
    }
   },
   "source": [
    "### Part B\n",
    "\n",
    "The lecture on statistics mentions latent variables, specifically how you *cannot* know what the underlying process is that's generating your data; all you have is the data, on which you have to impose certain assumptions in order to derive hypotheses about what generated the data in the first place.\n",
    "\n",
    "To illustrate this, the code provided below generates sample data from distributions with mean and variance that are *typically* not known to you. Put another way, **pretend you cannot see the mean (`loc`) and variance (`scale`) in the code that generates these samples; all you usually can see are the data samples themselves.**\n",
    "\n",
    "You'll use the `numpy.mean` and `variance` function you wrote in Part A to compute the statistics on the sample data itself and observe how these statistics change.\n",
    "\n",
    "In the space provided, compute and print the mean and variance of each of the three samples:\n",
    " - `sample1`\n",
    " - `sample2`\n",
    " - `sample3`\n",
    "\n",
    "You can just `print()` them out in the space provided. **Don't modify anything above where it says \"DON'T MODIFY\"**."
   ]
  },
  {
   "cell_type": "code",
   "execution_count": 12,
   "metadata": {
    "nbgrader": {
     "grade": true,
     "grade_id": "q2b",
     "locked": false,
     "points": 20,
     "schema_version": 1,
     "solution": true
    }
   },
   "outputs": [
    {
     "name": "stdout",
     "output_type": "stream",
     "text": [
      "Variance of Sample 1 = 40.227985133290126\n",
      "Mean of Sample 1 = 9.225549723298691\n",
      "Variance of Sample 2 = 25.268584205085652\n",
      "Mean of Sample 2 = 9.799833697772822\n",
      "Variance of Sample 3 = 25.009857369536363\n",
      "Mean of Sample 3 = 10.000880335689784\n"
     ]
    }
   ],
   "source": [
    "import numpy as np\n",
    "np.random.seed(5735636)\n",
    "\n",
    "sample1 = np.random.normal(loc = 10, scale = 5, size = 10)\n",
    "sample2 = np.random.normal(loc = 10, scale = 5, size = 1000)\n",
    "sample3 = np.random.normal(loc = 10, scale = 5, size = 1000000)\n",
    "\n",
    "#########################\n",
    "# DON'T MODIFY ANYTHING #\n",
    "#   ABOVE THIS BLOCK    #\n",
    "#########################\n",
    "\n",
    "### BEGIN SOLUTION\n",
    "print(\"Variance of Sample 1 =\", + variance(sample1))\n",
    "print(\"Mean of Sample 1 =\", + np.mean(sample1))\n",
    "print(\"Variance of Sample 2 =\", + variance(sample2))\n",
    "print(\"Mean of Sample 2 =\", + np.mean(sample2))\n",
    "print(\"Variance of Sample 3 =\", + variance(sample3))\n",
    "print(\"Mean of Sample 3 =\", + np.mean(sample3))\n",
    "### END SOLUTION"
   ]
  },
  {
   "cell_type": "code",
   "execution_count": null,
   "metadata": {},
   "outputs": [],
   "source": []
  }
 ],
 "metadata": {
  "anaconda-cloud": {},
  "celltoolbar": "Create Assignment",
  "kernelspec": {
   "display_name": "Python 3 (ipykernel)",
   "language": "python",
   "name": "python3"
  },
  "language_info": {
   "codemirror_mode": {
    "name": "ipython",
    "version": 3
   },
   "file_extension": ".py",
   "mimetype": "text/x-python",
   "name": "python",
   "nbconvert_exporter": "python",
   "pygments_lexer": "ipython3",
   "version": "3.9.12"
  }
 },
 "nbformat": 4,
 "nbformat_minor": 1
}
