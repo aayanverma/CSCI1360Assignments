{
 "cells": [
  {
   "cell_type": "markdown",
   "metadata": {
    "collapsed": true,
    "nbgrader": {
     "grade": false,
     "grade_id": "a2_intro",
     "locked": true,
     "schema_version": 1,
     "solution": false
    }
   },
   "source": [
    "## Assignment 3\n",
    "CSCI 1360\n",
    "\n",
    "## Important Date\n",
    "\n",
    " - Deadline: 2022-07-5 at 5:00 pm [EDT]\n",
    " \n",
    "## Grading Breakdown\n",
    "\n",
    " - Q1: 40pts\n",
    " - Q2: 30pts\n",
    " - Q3: 30pts\n",
    " \n",
    "Total: 100pts\n",
    "\n",
    "\n",
    "## Overview\n",
    "\n",
    "This assignment will familiarize you with the built-in Python data structures, looping, conditionals, and exceptions.\n",
    "\n",
    "\n",
    "## What to Submit\n",
    "In this assignment, you will create one small python program. The name of the file should be YourLastName_A3.ipynb (for example Amirian_A2.ipynb). The source file (ending in .ipynb) should be submitted to the course eLC site. Detailed instructions on how to do this are included as the following part of this document.\n",
    "\n",
    "## eLC Submission and Grading\n",
    "After you have completed and thoroughly tested your program, upload and submit .ipynb file to eLC in the Assignment Dropbox. Always double check that your submission was successful on eLC and double check that you submitted the correct version of your completed program.  \n",
    "\n",
    "The Assignment will be graded according to the following guidelines. \n",
    "\n",
    "•\tA score between 0 and 100 will be assigned. \n",
    "\n",
    "•\tIf the source file(s) are not submitted before the specified deadline’s late period ends (48 hours after the deadline) or if they do not compile, then a grade of 0 will be assigned. \n",
    "\n",
    "•\t25 points will be deducted for Assignments submitted late (note: Assignment can only be submitted up to 48 hours late, after 48 hours, a grade of zero will be assigned). "
   ]
  },
  {
   "cell_type": "markdown",
   "metadata": {},
   "source": [
    "# Question 1\n",
    "\n",
    "In this question, we're looking at some of the basic operations of native Python data structures and iterations.\n",
    "\n",
    "### Part A\n",
    "\n",
    "In this part, you'll be given three lists: X coordinates, Y coordinates, and Z coordinates. Therefore, the first data point in this 3D space is `(X[0], Y[0], Z[0])`; the second one is `(X[1], Y[1], Z[1])`, and so on. You will need to use these coordinates and compute the *magnitudes* of the vectors they form.\n",
    "\n",
    "Recall that a 2D, 3D or any-D point in space can also be represented as a vector, and vectors have *lengths*, or magnitudes. This length can be computed using the Euclidean distance function:\n",
    "\n",
    "$$\n",
    "d = \\sqrt{x^2 + y^2 + z^2}\n",
    "$$\n",
    "\n",
    "Recall that you can compute exponents in Python using the `**` operator.\n",
    "\n",
    "Append these magnitudes to the list `magnitudes`.\n",
    "\n",
    "**No imports allowed!**"
   ]
  },
  {
   "cell_type": "code",
   "execution_count": 1,
   "metadata": {},
   "outputs": [],
   "source": [
    "def compute_3dmagnitudes(X, Y, Z):\n",
    "    magnitudes = []\n",
    "    \n",
    "    ### BEGIN SOLUTION\n",
    "    for i in range(len(X)):\n",
    "        magnitudes.append((X[i]**2 + Y[i]**2 + Z[i]**2) ** .5)\n",
    "    ### END SOLUTION\n",
    "    \n",
    "    return magnitudes"
   ]
  },
  {
   "cell_type": "code",
   "execution_count": 2,
   "metadata": {},
   "outputs": [],
   "source": [
    "import numpy.testing as t\n",
    "\n",
    "x1 = [1, 2, 3]\n",
    "y1 = [4, 5, 6]\n",
    "z1 = [7, 8, 9]\n",
    "a1 = [8.12403840463596, 9.643650760992955, 11.224972160321824]\n",
    "t.assert_allclose(compute_3dmagnitudes(x1, y1, z1), a1)"
   ]
  },
  {
   "cell_type": "code",
   "execution_count": 3,
   "metadata": {},
   "outputs": [],
   "source": [
    "x2 = [ 30.48325629,  43.69168085,   1.77825571,  79.51618164, 18.97152147,  71.22477376,  98.29697101,  41.97578185, 10.61862458,  93.50326655]\n",
    "y2 = [ 98.97761722,  75.44498495,  41.40658662,  76.24025762, 12.64196712,  99.80696952,  27.68903488,   5.02806986, 92.34989725,  95.81159194]\n",
    "z2 = [ 12.72332579,  22.04915914,  48.91187418,  24.43381236, 63.35006599,  97.43294649,  42.61849556,  39.79723282, 44.2374771 ,  16.67458157]\n",
    "a2 = [104.34404939309736,89.92816104193963,64.10958621524445,112.83798656043598,67.32732595675537,156.61283032897592,110.65854384603286,58.06089465866948,102.94762304312597,134.91020597468528]\n",
    "t.assert_allclose(compute_3dmagnitudes(x2, y2, z2), a2)"
   ]
  },
  {
   "cell_type": "markdown",
   "metadata": {},
   "source": [
    "### Part B\n",
    "\n",
    "In this question, you're given two lists: keys and values. Write a loop that uses the `zip` function in order to create a dictionary which contains the specific keys and values.\n",
    "\n",
    "For example, the function `lists_to_dict( [\"one\", \"two\", \"three\"], [1, 2, 3] )` should return a dictionary that looks like:\n",
    "\n",
    "`{\"one\": 1, \"two\": 2, \"three\": 3}`\n",
    "\n",
    "It doesn't matter if, when printed, the key/values are in a different order, so long as the correct keys are paired with the correct values.\n",
    "\n",
    "**Sorry, using `dict()` is not allowed.** It's a great function that would answer this question in one line, but you can't use it here."
   ]
  },
  {
   "cell_type": "code",
   "execution_count": 9,
   "metadata": {},
   "outputs": [],
   "source": [
    "def lists_to_dict(keys, values):\n",
    "    new_dict = {}\n",
    "    \n",
    "    ### BEGIN SOLUTION\n",
    "    for key, value in zip(keys, values):\n",
    "        new_dict[key] = value\n",
    "    ### END SOLUTION\n",
    "    \n",
    "    return new_dict"
   ]
  },
  {
   "cell_type": "code",
   "execution_count": 10,
   "metadata": {},
   "outputs": [],
   "source": [
    "k1 = [\"1\", \"2\", \"3\"]\n",
    "v1 = [\"one\", \"two\", \"three\"]\n",
    "a1 = set({(k1[0], v1[0]), (k1[1], v1[1]), (k1[2], v1[2])})\n",
    "assert a1 == set(lists_to_dict(k1, v1).items())"
   ]
  },
  {
   "cell_type": "code",
   "execution_count": 11,
   "metadata": {},
   "outputs": [],
   "source": [
    "k2 = [\"wat1\", \"wat2\", \"wat3\", \"wat4\", \"wat5\"]\n",
    "v2 = [1, 2, 3, 4, 5]\n",
    "a2 = set({(k2[0], v2[0]), (k2[1], v2[1]), (k2[2], v2[2]), (k2[3], v2[3]), (k2[4], v2[4])})\n",
    "assert a2 == set(lists_to_dict(k2, v2).items())"
   ]
  },
  {
   "cell_type": "markdown",
   "metadata": {},
   "source": [
    "# Question 2\n",
    "\n",
    "In this question, we'll look at using conditionals to change the behavior of code.\n",
    "\n",
    "\n",
    "### Part A\n",
    "\n",
    "In this question, you'll write a method that takes a list of numbers [0-9] and returns a corresponding list with the \"ordinal\" versions. That is, if you see a 1 in the list, you'll create a string \"1st\". If you see a 3, you'll create a string \"3rd\", and so on.\n",
    "\n",
    "For example, if you receive `[2, 1, 4, 3, 4]` as input, you should create a list of strings that looks like this: `[\"2nd\", \"1st\", \"4th\", \"3rd\", \"4th\"]`."
   ]
  },
  {
   "cell_type": "code",
   "execution_count": 28,
   "metadata": {},
   "outputs": [],
   "source": [
    "def return_ordinals(numbers):\n",
    "    out_list = []\n",
    "    \n",
    "    ### BEGIN SOLUTION\n",
    "    a = 0\n",
    "    while a < len(numbers):\n",
    "        if numbers[a] == 1:\n",
    "            out_list.append(\"1st\")\n",
    "        if numbers[a] == 2:\n",
    "            out_list.append(\"2nd\")\n",
    "        if numbers[a] == 3:\n",
    "            out_list.append(\"3rd\")\n",
    "            \n",
    "            \n",
    "        else:\n",
    "            ordinal = str(numbers[a])\n",
    "            ordinal += \"th\"\n",
    "            out_list.append(ordinal)\n",
    "    ### END SOLUTION\n",
    "    \n",
    "    return out_list"
   ]
  },
  {
   "cell_type": "code",
   "execution_count": null,
   "metadata": {},
   "outputs": [],
   "source": [
    "inlist = [5, 6, 1, 9, 5, 5, 3, 3, 9, 4]\n",
    "outlist = [\"5th\", \"6th\", \"1st\", \"9th\", \"5th\", \"5th\", \"3rd\", \"3rd\", \"9th\", \"4th\"]\n",
    "for y_true, y_pred in zip(outlist, return_ordinals(inlist)):\n",
    "    assert y_true == y_pred.lower()"
   ]
  },
  {
   "cell_type": "code",
   "execution_count": null,
   "metadata": {},
   "outputs": [],
   "source": [
    "inlist = [7, 5, 6, 6, 3, 5, 1, 0, 5, 2]\n",
    "outlist = [\"7th\", \"5th\", \"6th\", \"6th\", \"3rd\", \"5th\", \"1st\", \"0th\", \"5th\", \"2nd\"]\n",
    "for y_true, y_pred in zip(outlist, return_ordinals(inlist)):\n",
    "    assert y_true == y_pred.lower()"
   ]
  },
  {
   "cell_type": "markdown",
   "metadata": {},
   "source": [
    "### Part B\n",
    "\n",
    "In this question, you'll write code that computes the median of a sorted list of numbers. You can assume the list you receive is already sorted in ascending order (least to greatest).\n",
    "\n",
    "If your input list is `[1, 1, 2, 4, 7, 7, 8]`, then your output should be `4`. Recall the rule about median: if you get a list with an *even* number of elements, you should return the average of the two middle ones.\n",
    "\n",
    "Store your answer in the variable `med_num`.\n",
    "\n",
    "**No imports allowed!**"
   ]
  },
  {
   "cell_type": "code",
   "execution_count": null,
   "metadata": {},
   "outputs": [],
   "source": [
    "def median(numbers):\n",
    "    med_num = 0\n",
    "    \n",
    "    ### BEGIN SOLUTION\n",
    "    length = len(numbers)\n",
    "    if length % 2 == 0:\n",
    "        med_num = (numbers[length//2]+numbers[length//2-1])/2\n",
    "    else:\n",
    "        med_num = numbers[length//2]\n",
    "\n",
    "    ### END SOLUTION\n",
    "    \n",
    "    return med_num"
   ]
  },
  {
   "cell_type": "code",
   "execution_count": null,
   "metadata": {},
   "outputs": [],
   "source": [
    "import numpy as np\n",
    "np.random.seed(5894835)\n",
    "\n",
    "l1 = (np.random.random(1000) * 2000) - 1000\n",
    "l1.sort()\n",
    "outmed = 1\n",
    "inlist = l1.tolist()\n",
    "\n",
    "assert outmed == int(median(inlist))"
   ]
  },
  {
   "cell_type": "code",
   "execution_count": null,
   "metadata": {},
   "outputs": [],
   "source": [
    "np.random.seed(69582)\n",
    "\n",
    "l2 = (np.random.random(1000) * 2000) - 100\n",
    "l2.sort()\n",
    "outmed = 849\n",
    "inlist = l2.tolist()\n",
    "\n",
    "assert outmed == int(median(inlist))\n",
    "\n",
    "### BEGIN HIDDEN TESTS\n",
    "l22 = (np.random.random(100) * 100) - 50\n",
    "l22.sort()\n",
    "om2 = 5\n",
    "il2 = l22.tolist()\n",
    "assert om2 == int(median(il2))\n",
    "### END HIDDEN TESTS"
   ]
  },
  {
   "cell_type": "markdown",
   "metadata": {},
   "source": [
    "### Part C\n",
    "\n",
    "In this question, you'll write code to find the mode of a list of numbers. Recall that the mode is the number that occurs most frequently. Ties can be broken arbitrarily (meaning you can pick whichever number among those tied for the most frequent).\n",
    "\n",
    "If your input list is `[5, 1, 3, 1, 2, 5, 1]`, you should return `1`.\n",
    "\n",
    "Hint: try using a dictionary to maintain the number of times you've seen particular numbers.\n",
    "\n",
    "Store your answer in the variable `mode_num`.\n",
    "\n",
    "**No imports allowed!**"
   ]
  },
  {
   "cell_type": "code",
   "execution_count": null,
   "metadata": {},
   "outputs": [],
   "source": [
    "def mode(numbers):\n",
    "    mode_num = 0\n",
    "    \n",
    "    ### BEGIN SOLUTION\n",
    "    counter = {}\n",
    "    for i in numbers:\n",
    "        if i in counter:\n",
    "            counter[i] += 1\n",
    "        else:\n",
    "            counter[i] = 1\n",
    "            \n",
    "    for num, value in counter.items():\n",
    "        if value == max(counter.values()):\n",
    "            mode_num = num\n",
    "    ### END SOLUTION\n",
    "    \n",
    "    return mode_num"
   ]
  },
  {
   "cell_type": "code",
   "execution_count": null,
   "metadata": {},
   "outputs": [],
   "source": [
    "l1 = [5, 1, 3, 1, 2, 5, 1]\n",
    "a1 = 1\n",
    "assert mode(l1) == a1"
   ]
  },
  {
   "cell_type": "code",
   "execution_count": null,
   "metadata": {},
   "outputs": [],
   "source": [
    "l2 = [1, 2, 3, 1, 2, 3, 1, 2, 3, 4, 4, 4, 4, 4]\n",
    "a2 = 4\n",
    "assert mode(l2) == a2\n",
    "\n",
    "### BEGIN HIDDEN TESTS\n",
    "l3 = [5, 5, 5, 5, 5, 6, 6, 6, 6, 6, 6, 6, 6]\n",
    "a3 = 6\n",
    "assert mode(l3) == a3\n",
    "### END HIDDEN TESTS"
   ]
  },
  {
   "cell_type": "markdown",
   "metadata": {},
   "source": [
    "# Question 3\n",
    "\n",
    "In this question, you'll be doing some error handling using `try/except` statements.\n",
    "\n",
    "\n",
    "### Part A\n",
    "\n",
    "In this question, you'll fill out the code to perform safe division. This means that, in the case of a division-by-zero, you catch the error before it crashes the program, and instead return 0.\n",
    "\n",
    "`a` and `b` are variables that store the divisor and dividend, respectively. **You CANNOT use conditionals**; instead, you need to use a `try/except` block to gracefully catch any errors resulting from a division by zero.\n",
    "\n",
    "Assign the final value to the variable `quotient`.\n",
    "\n",
    "**Hint**: the error you'll want to catch is `ZeroDivisionError`.\n",
    "\n",
    "**No imports allowed!**"
   ]
  },
  {
   "cell_type": "code",
   "execution_count": 4,
   "metadata": {},
   "outputs": [],
   "source": [
    "def safe_divide(a, b):\n",
    "    quotient = 0\n",
    "\n",
    "    ### BEGIN SOLUTION\n",
    "    try:\n",
    "        quotient = int(a) / int(b)\n",
    "    \n",
    "    except ZeroDivisionError:\n",
    "        quotient = 0\n",
    "    \n",
    "        \n",
    "    \n",
    "\n",
    "    ### END SOLUTION\n",
    "    \n",
    "    return quotient"
   ]
  },
  {
   "cell_type": "code",
   "execution_count": 5,
   "metadata": {},
   "outputs": [],
   "source": [
    "a1 = 10\n",
    "b1 = 5\n",
    "q1 = 2.0\n",
    "assert q1 == safe_divide(a1, b1)"
   ]
  },
  {
   "cell_type": "code",
   "execution_count": 6,
   "metadata": {},
   "outputs": [],
   "source": [
    "a2 = 10\n",
    "b2 = 0\n",
    "q2 = 0.0\n",
    "assert q2 == safe_divide(a2, b2)"
   ]
  },
  {
   "cell_type": "markdown",
   "metadata": {},
   "source": [
    "### Part B\n",
    "\n",
    "In this question, you need to write code that calls the `magic()` function, and returns whatever value `magic` hands back. **Be warned!** This strange `magic` function is prone to crashing and throwing errors, so you'll need to use sufficient `try/except` wizardry to make sure it doesn't bring your program down, too!\n",
    "\n",
    "In the code below, add a `try/except` block where you call `magic()` and assign it to the variable `retval`. If it doesn't throw an error, just return `retval`. If it *does* throw an error, catch it gracefully, and then assign `-1` to `retval`.\n",
    "\n",
    "**No imports allowed!**"
   ]
  },
  {
   "cell_type": "code",
   "execution_count": 10,
   "metadata": {},
   "outputs": [],
   "source": [
    "def do_you_believe_in_magic():\n",
    "    retval = -1\n",
    "    \n",
    "    ### BEGIN SOLUTION\n",
    "    try:\n",
    "        retval = magic()\n",
    "        \n",
    "    except ValueError:\n",
    "        retval = -1\n",
    "    ### END SOLUTION\n",
    "    \n",
    "    return retval"
   ]
  },
  {
   "cell_type": "code",
   "execution_count": 11,
   "metadata": {},
   "outputs": [],
   "source": [
    "import numpy as np\n",
    "np.random.seed(91375)\n",
    "\n",
    "def magic():\n",
    "    i = np.random.randint(100)\n",
    "    if i > 50:\n",
    "        return i >> 2\n",
    "    else:\n",
    "        raise ValueError(\"Something bad happened!\")\n",
    "        \n",
    "i1 = do_you_believe_in_magic()\n",
    "assert i1 == 14"
   ]
  },
  {
   "cell_type": "code",
   "execution_count": 12,
   "metadata": {},
   "outputs": [],
   "source": [
    "np.random.seed(3851)\n",
    "\n",
    "i2 = do_you_believe_in_magic()\n",
    "assert i2 == -1\n",
    "\n",
    "### BEGIN HIDDEN TESTS\n",
    "i3 = do_you_believe_in_magic()\n",
    "assert i3 == 24\n",
    "### END HIDDEN TESTS"
   ]
  },
  {
   "cell_type": "code",
   "execution_count": null,
   "metadata": {},
   "outputs": [],
   "source": []
  },
  {
   "cell_type": "code",
   "execution_count": null,
   "metadata": {},
   "outputs": [],
   "source": []
  }
 ],
 "metadata": {
  "anaconda-cloud": {},
  "celltoolbar": "Create Assignment",
  "kernelspec": {
   "display_name": "Python 3 (ipykernel)",
   "language": "python",
   "name": "python3"
  },
  "language_info": {
   "codemirror_mode": {
    "name": "ipython",
    "version": 3
   },
   "file_extension": ".py",
   "mimetype": "text/x-python",
   "name": "python",
   "nbconvert_exporter": "python",
   "pygments_lexer": "ipython3",
   "version": "3.9.12"
  }
 },
 "nbformat": 4,
 "nbformat_minor": 1
}
