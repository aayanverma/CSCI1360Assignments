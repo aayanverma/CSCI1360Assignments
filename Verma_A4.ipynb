{
 "cells": [
  {
   "cell_type": "markdown",
   "metadata": {},
   "source": [
    "# Assignment 4\n",
    "\n",
    "CSCI 1360: Foundations for Informatics and Analytics\n",
    "\n",
    "## Important Dates\n",
    "\n",
    " - Deadline: 2022-07-13 at 5:00 pm\n",
    " \n",
    "## Grading Breakdown\n",
    "\n",
    " - Q: 100 pts\n",
    "\n"
   ]
  },
  {
   "cell_type": "markdown",
   "metadata": {},
   "source": [
    "# Overview\n",
    "\n",
    "This assignment will focus on filesystem input/output.\n",
    "\n",
    "If you have any questions or difficulties with the assignment, don't hesitate to send us an email!\n",
    "\n",
    "\n",
    "## What to Submit\n",
    "In this assignment, you will create one small python program. The name of the file should be YourLastName_A4.ipynb (for example Amirian_A4.ipynb). The source file (ending in .ipynb) should be submitted to the course eLC site. Detailed instructions on how to do this are included as the following part of this document.\n",
    "\n",
    "## eLC Submission and Grading\n",
    "After you have completed and thoroughly tested your program, upload and submit .ipynb file to eLC in the Assignment Dropbox. Always double check that your submission was successful on eLC and double check that you submitted the correct version of your completed program.  \n",
    "\n",
    "The Assignment will be graded according to the following guidelines. \n",
    "\n",
    "•\tA score between 0 and 100 will be assigned. \n",
    "\n",
    "•\tIf the source file(s) are not submitted before the specified deadline’s late period ends (48 hours after the deadline) or if they do not compile, then a grade of 0 will be assigned. \n",
    "\n",
    "•\t25 points will be deducted for Assignments submitted late (note: Assignment can only be submitted up to 48 hours late, after 48 hours, a grade of zero will be assigned). "
   ]
  },
  {
   "cell_type": "markdown",
   "metadata": {
    "nbgrader": {
     "grade": false,
     "grade_id": "q2_prompt",
     "locked": true,
     "schema_version": 1,
     "solution": false
    }
   },
   "source": [
    "# Question\n",
    "\n",
    "In this question, we'll review the basics of file I/O (file input/output) and the various function calls and modes required."
   ]
  },
  {
   "cell_type": "markdown",
   "metadata": {
    "nbgrader": {
     "grade": false,
     "grade_id": "q2a_prompt",
     "locked": true,
     "schema_version": 1,
     "solution": false
    }
   },
   "source": [
    "### Part A\n",
    "\n",
    "Write a function which:\n",
    "\n",
    " - is named `read_file_contents`\n",
    " - takes a string pathname as an argument\n",
    " - returns a single string that contains all the contents of the file\n",
    " \n",
    "Don't import any additional packages.\n",
    "\n",
    "If I have a file `random_text.txt`, I'll give the full path to this file to the function: `contents = read_file_contents(\"random_text.txt\")`, and I should get back a single string `contents` that contains all the contents of the file.\n",
    "\n",
    "**NOTE:** Your function should be able to handle errors gracefully! If an error occurs when trying to read from the file, your function should return `None` (note the capitalization of the first letter)."
   ]
  },
  {
   "cell_type": "code",
   "execution_count": 12,
   "metadata": {
    "nbgrader": {
     "grade": false,
     "grade_id": "q2a",
     "locked": false,
     "schema_version": 1,
     "solution": true
    }
   },
   "outputs": [
    {
     "name": "stdout",
     "output_type": "stream",
     "text": [
      "None\n"
     ]
    }
   ],
   "source": [
    "def read_file_contents(filename):\n",
    "    try:\n",
    "        file = open(filename, 'r')\n",
    "        content = \"\"\n",
    "        \n",
    "        for a in file.readlines():\n",
    "            content += a\n",
    "        file.close()\n",
    "            \n",
    "        return content\n",
    "    except(FileNotFoundError):\n",
    "        return None\n",
    "    \n",
    "print(read_file_contents(\"random_text.txt\"))"
   ]
  },
  {
   "cell_type": "code",
   "execution_count": 13,
   "metadata": {
    "nbgrader": {
     "grade": true,
     "grade_id": "q2a_test1",
     "locked": true,
     "points": 5,
     "schema_version": 1,
     "solution": false
    }
   },
   "outputs": [
    {
     "ename": "AssertionError",
     "evalue": "",
     "output_type": "error",
     "traceback": [
      "\u001b[0;31m---------------------------------------------------------------------------\u001b[0m",
      "\u001b[0;31mAssertionError\u001b[0m                            Traceback (most recent call last)",
      "Input \u001b[0;32mIn [13]\u001b[0m, in \u001b[0;36m<cell line: 3>\u001b[0;34m()\u001b[0m\n\u001b[1;32m      1\u001b[0m truth \u001b[38;5;241m=\u001b[39m \u001b[38;5;124m\"\u001b[39m\u001b[38;5;124mThis is some text.\u001b[39m\u001b[38;5;130;01m\\n\u001b[39;00m\u001b[38;5;124mMore text, but on a different line!\u001b[39m\u001b[38;5;130;01m\\n\u001b[39;00m\u001b[38;5;124mInsert your favorite meme here.\u001b[39m\u001b[38;5;130;01m\\n\u001b[39;00m\u001b[38;5;124m\"\u001b[39m\n\u001b[1;32m      2\u001b[0m pred \u001b[38;5;241m=\u001b[39m read_file_contents(\u001b[38;5;124m\"\u001b[39m\u001b[38;5;124mA4/file1.txt\u001b[39m\u001b[38;5;124m\"\u001b[39m)\n\u001b[0;32m----> 3\u001b[0m \u001b[38;5;28;01massert\u001b[39;00m truth \u001b[38;5;241m==\u001b[39m pred\n",
      "\u001b[0;31mAssertionError\u001b[0m: "
     ]
    }
   ],
   "source": [
    "truth = \"This is some text.\\nMore text, but on a different line!\\nInsert your favorite meme here.\\n\"\n",
    "pred = read_file_contents(\"A4/file1.txt\")\n",
    "assert truth == pred"
   ]
  },
  {
   "cell_type": "code",
   "execution_count": 14,
   "metadata": {
    "nbgrader": {
     "grade": true,
     "grade_id": "q2a_test2",
     "locked": true,
     "points": 5,
     "schema_version": 1,
     "solution": false
    }
   },
   "outputs": [],
   "source": [
    "retval = -1\n",
    "try:\n",
    "    retval = read_file_contents(\"nonexistent/path.txt\")\n",
    "except:\n",
    "    assert False\n",
    "else:\n",
    "    assert retval is None"
   ]
  },
  {
   "cell_type": "markdown",
   "metadata": {
    "nbgrader": {
     "grade": false,
     "grade_id": "q2b_prompt",
     "locked": true,
     "schema_version": 1,
     "solution": false
    }
   },
   "source": [
    "### Part B\n",
    "\n",
    "In this question, you'll read from one file, perform a simple computation, and write the results to a new file.\n",
    "\n",
    "Write a function which:\n",
    "\n",
    " - is named `count_lines`\n",
    " - that takes two arguments: the first is a path to an input file to read, the second is the path to an output file to write\n",
    " - returns `True` on success, `False` if something went wrong (i.e an error occurred)\n",
    " \n",
    "Your function will count the number of lines in the file at the first argument, and write this number to a file at the second argument.\n",
    "\n",
    "**NOTE:** Your function should be able to handle errors gracefully! If an error occurs when trying to read from the file or write to the output file, your function should return `False`."
   ]
  },
  {
   "cell_type": "code",
   "execution_count": 15,
   "metadata": {
    "nbgrader": {
     "grade": false,
     "grade_id": "q2b",
     "locked": false,
     "schema_version": 1,
     "solution": true
    }
   },
   "outputs": [],
   "source": [
    "def count_lines(input_file, output_file):\n",
    "    lines = 0\n",
    "    \n",
    "    try:\n",
    "        a = open(input_file, \"r\")\n",
    "        while(a.readline() != \"\"):\n",
    "            lines = lines + 1\n",
    "            \n",
    "        a.close()\n",
    "        a = open(output_file, \"w\")\n",
    "        a.write(str(lines))\n",
    "        a.close()\n",
    "        return True\n",
    "    except:\n",
    "        return False"
   ]
  },
  {
   "cell_type": "code",
   "execution_count": 16,
   "metadata": {
    "nbgrader": {
     "grade": true,
     "grade_id": "q2b_test1",
     "locked": true,
     "points": 5,
     "schema_version": 1,
     "solution": false
    }
   },
   "outputs": [
    {
     "ename": "AssertionError",
     "evalue": "",
     "output_type": "error",
     "traceback": [
      "\u001b[0;31m---------------------------------------------------------------------------\u001b[0m",
      "\u001b[0;31mAssertionError\u001b[0m                            Traceback (most recent call last)",
      "Input \u001b[0;32mIn [16]\u001b[0m, in \u001b[0;36m<cell line: 5>\u001b[0;34m()\u001b[0m\n\u001b[1;32m      2\u001b[0m \u001b[38;5;28;01mif\u001b[39;00m os\u001b[38;5;241m.\u001b[39mpath\u001b[38;5;241m.\u001b[39mexists(\u001b[38;5;124m\"\u001b[39m\u001b[38;5;124mA4/file1_out.txt\u001b[39m\u001b[38;5;124m\"\u001b[39m):\n\u001b[1;32m      3\u001b[0m     os\u001b[38;5;241m.\u001b[39mremove(\u001b[38;5;124m\"\u001b[39m\u001b[38;5;124mA4/file1_out.txt\u001b[39m\u001b[38;5;124m\"\u001b[39m)\n\u001b[0;32m----> 5\u001b[0m \u001b[38;5;28;01massert\u001b[39;00m count_lines(\u001b[38;5;124m\"\u001b[39m\u001b[38;5;124mA4/file1.txt\u001b[39m\u001b[38;5;124m\"\u001b[39m, \u001b[38;5;124m\"\u001b[39m\u001b[38;5;124mA4/file1_out.txt\u001b[39m\u001b[38;5;124m\"\u001b[39m)\n\u001b[1;32m      6\u001b[0m \u001b[38;5;28;01massert\u001b[39;00m os\u001b[38;5;241m.\u001b[39mpath\u001b[38;5;241m.\u001b[39mexists(\u001b[38;5;124m\"\u001b[39m\u001b[38;5;124mA4/file1_out.txt\u001b[39m\u001b[38;5;124m\"\u001b[39m)\n\u001b[1;32m      7\u001b[0m \u001b[38;5;28;01massert\u001b[39;00m \u001b[38;5;28mint\u001b[39m(\u001b[38;5;28mopen\u001b[39m(\u001b[38;5;124m\"\u001b[39m\u001b[38;5;124mA4/file1_out.txt\u001b[39m\u001b[38;5;124m\"\u001b[39m, \u001b[38;5;124m\"\u001b[39m\u001b[38;5;124mr\u001b[39m\u001b[38;5;124m\"\u001b[39m)\u001b[38;5;241m.\u001b[39mread()) \u001b[38;5;241m==\u001b[39m \u001b[38;5;241m3\u001b[39m\n",
      "\u001b[0;31mAssertionError\u001b[0m: "
     ]
    }
   ],
   "source": [
    "import os\n",
    "if os.path.exists(\"A4/file1_out.txt\"):\n",
    "    os.remove(\"A4/file1_out.txt\")\n",
    "\n",
    "assert count_lines(\"A4/file1.txt\", \"A4/file1_out.txt\")\n",
    "assert os.path.exists(\"A4/file1_out.txt\")\n",
    "assert int(open(\"A4/file1_out.txt\", \"r\").read()) == 3"
   ]
  },
  {
   "cell_type": "code",
   "execution_count": 17,
   "metadata": {
    "nbgrader": {
     "grade": true,
     "grade_id": "q2b_test2",
     "locked": true,
     "points": 5,
     "schema_version": 1,
     "solution": false
    }
   },
   "outputs": [],
   "source": [
    "if os.path.exists(\"meaningless\"):\n",
    "    os.remove(\"meaningless\")\n",
    "\n",
    "r1 = None\n",
    "try:\n",
    "    r1 = count_lines(\"yet/another/nonexistent/path.txt\", \"meaningless\")\n",
    "except:\n",
    "    assert False\n",
    "else:\n",
    "    assert not r1"
   ]
  },
  {
   "cell_type": "code",
   "execution_count": 18,
   "metadata": {
    "nbgrader": {
     "grade": true,
     "grade_id": "q2b_test3",
     "locked": true,
     "points": 5,
     "schema_version": 1,
     "solution": false
    }
   },
   "outputs": [],
   "source": [
    "r2 = None\n",
    "try:\n",
    "    r2 = count_lines(\"A4/file1.txt\", \"/this/should/throw/an/error.txt\")\n",
    "except:\n",
    "    assert False\n",
    "else:\n",
    "    assert not r2"
   ]
  },
  {
   "cell_type": "markdown",
   "metadata": {
    "nbgrader": {
     "grade": false,
     "grade_id": "q2c_prompt",
     "locked": true,
     "schema_version": 1,
     "solution": false
    }
   },
   "source": [
    "### Part C\n",
    "\n",
    "In this question, you'll write a function which\n",
    "\n",
    " - is named `acount_lines` \n",
    " - takes the same two arguments as `count_lines` in Part B\n",
    " - returns the same values as `count_lines` in Part B\n",
    " \n",
    "This function performs the same operation as before, except in the case that the output file already exists: in this case, you'll **append** the line count to the file instead of overwriting it, thus preserving any existing previous line counts.\n",
    "\n",
    "Each new appended line count should be *on its own line in the output file*. You may need to manually insert newline characters, which are a backslash followed by the letter n: **`\\n`**\n",
    "\n",
    "Your function should return `True` on success, and `False` if an error occurred.\n",
    "\n",
    "**NOTE:** Your function should be able to handle errors gracefully! If an error occurs when trying to read from the file or write to the output file, your function should return `False`."
   ]
  },
  {
   "cell_type": "code",
   "execution_count": 26,
   "metadata": {
    "nbgrader": {
     "grade": false,
     "grade_id": "q2c",
     "locked": false,
     "schema_version": 1,
     "solution": true
    }
   },
   "outputs": [
    {
     "data": {
      "text/plain": [
       "False"
      ]
     },
     "execution_count": 26,
     "metadata": {},
     "output_type": "execute_result"
    }
   ],
   "source": [
    "def acount_lines(inp, out):\n",
    "    try:\n",
    "        input1 = open(inp, \"r\")\n",
    "        amountLines = len(input1.readlines())\n",
    "        \n",
    "        output1 = open(output, \"a\")\n",
    "        output1.write(str(amountLines) + \"\\n\")\n",
    "        \n",
    "        input1.close()\n",
    "        output1.close()\n",
    "        return True\n",
    "    \n",
    "    except:\n",
    "        return False\n",
    "    \n",
    "acount_lines(\"input.txt\", \"output.txt\")"
   ]
  },
  {
   "cell_type": "code",
   "execution_count": 27,
   "metadata": {
    "nbgrader": {
     "grade": true,
     "grade_id": "q2c_test1",
     "locked": true,
     "points": 5,
     "schema_version": 1,
     "solution": false
    }
   },
   "outputs": [
    {
     "ename": "AssertionError",
     "evalue": "",
     "output_type": "error",
     "traceback": [
      "\u001b[0;31m---------------------------------------------------------------------------\u001b[0m",
      "\u001b[0;31mAssertionError\u001b[0m                            Traceback (most recent call last)",
      "Input \u001b[0;32mIn [27]\u001b[0m, in \u001b[0;36m<cell line: 4>\u001b[0;34m()\u001b[0m\n\u001b[1;32m      1\u001b[0m \u001b[38;5;28;01mif\u001b[39;00m os\u001b[38;5;241m.\u001b[39mpath\u001b[38;5;241m.\u001b[39mexists(\u001b[38;5;124m\"\u001b[39m\u001b[38;5;124mA4/out_again.txt\u001b[39m\u001b[38;5;124m\"\u001b[39m):\n\u001b[1;32m      2\u001b[0m     os\u001b[38;5;241m.\u001b[39mremove(\u001b[38;5;124m\"\u001b[39m\u001b[38;5;124mA4/out_again.txt\u001b[39m\u001b[38;5;124m\"\u001b[39m)\n\u001b[0;32m----> 4\u001b[0m \u001b[38;5;28;01massert\u001b[39;00m acount_lines(\u001b[38;5;124m\"\u001b[39m\u001b[38;5;124mA4/file1.txt\u001b[39m\u001b[38;5;124m\"\u001b[39m, \u001b[38;5;124m\"\u001b[39m\u001b[38;5;124mA4/out_again.txt\u001b[39m\u001b[38;5;124m\"\u001b[39m)\n\u001b[1;32m      5\u001b[0m \u001b[38;5;28;01massert\u001b[39;00m os\u001b[38;5;241m.\u001b[39mpath\u001b[38;5;241m.\u001b[39mexists(\u001b[38;5;124m\"\u001b[39m\u001b[38;5;124mA4/out_again.txt\u001b[39m\u001b[38;5;124m\"\u001b[39m)\n\u001b[1;32m      6\u001b[0m \u001b[38;5;28;01massert\u001b[39;00m \u001b[38;5;28mint\u001b[39m(\u001b[38;5;124m\"\u001b[39m\u001b[38;5;124m\"\u001b[39m\u001b[38;5;241m.\u001b[39mjoin(\u001b[38;5;28mopen\u001b[39m(\u001b[38;5;124m\"\u001b[39m\u001b[38;5;124mA4/out_again.txt\u001b[39m\u001b[38;5;124m\"\u001b[39m, \u001b[38;5;124m\"\u001b[39m\u001b[38;5;124mr\u001b[39m\u001b[38;5;124m\"\u001b[39m)\u001b[38;5;241m.\u001b[39mread()\u001b[38;5;241m.\u001b[39msplit(\u001b[38;5;124m\"\u001b[39m\u001b[38;5;130;01m\\n\u001b[39;00m\u001b[38;5;124m\"\u001b[39m))) \u001b[38;5;241m==\u001b[39m \u001b[38;5;241m35\u001b[39m\n",
      "\u001b[0;31mAssertionError\u001b[0m: "
     ]
    }
   ],
   "source": [
    "if os.path.exists(\"A4/out_again.txt\"):\n",
    "    os.remove(\"A4/out_again.txt\")\n",
    "\n",
    "assert acount_lines(\"A4/file1.txt\", \"A4/out_again.txt\")\n",
    "assert os.path.exists(\"A4/out_again.txt\")\n",
    "assert int(\"\".join(open(\"A4/out_again.txt\", \"r\").read().split(\"\\n\"))) == 35"
   ]
  },
  {
   "cell_type": "code",
   "execution_count": 28,
   "metadata": {
    "nbgrader": {
     "grade": true,
     "grade_id": "q2c_test2",
     "locked": true,
     "points": 5,
     "schema_version": 1,
     "solution": false
    }
   },
   "outputs": [
    {
     "ename": "AssertionError",
     "evalue": "",
     "output_type": "error",
     "traceback": [
      "\u001b[0;31m---------------------------------------------------------------------------\u001b[0m",
      "\u001b[0;31mAssertionError\u001b[0m                            Traceback (most recent call last)",
      "Input \u001b[0;32mIn [28]\u001b[0m, in \u001b[0;36m<cell line: 1>\u001b[0;34m()\u001b[0m\n\u001b[0;32m----> 1\u001b[0m \u001b[38;5;28;01massert\u001b[39;00m acount_lines(\u001b[38;5;124m\"\u001b[39m\u001b[38;5;124mA4/file2.txt\u001b[39m\u001b[38;5;124m\"\u001b[39m, \u001b[38;5;124m\"\u001b[39m\u001b[38;5;124mA4/out_again.txt\u001b[39m\u001b[38;5;124m\"\u001b[39m)\n\u001b[1;32m      2\u001b[0m \u001b[38;5;28;01massert\u001b[39;00m os\u001b[38;5;241m.\u001b[39mpath\u001b[38;5;241m.\u001b[39mexists(\u001b[38;5;124m\"\u001b[39m\u001b[38;5;124mA4/out_again.txt\u001b[39m\u001b[38;5;124m\"\u001b[39m)\n\u001b[1;32m      3\u001b[0m \u001b[38;5;28;01massert\u001b[39;00m \u001b[38;5;28mint\u001b[39m(\u001b[38;5;124m\"\u001b[39m\u001b[38;5;124m\"\u001b[39m\u001b[38;5;241m.\u001b[39mjoin(\u001b[38;5;28mopen\u001b[39m(\u001b[38;5;124m\"\u001b[39m\u001b[38;5;124mA4/out_again.txt\u001b[39m\u001b[38;5;124m\"\u001b[39m, \u001b[38;5;124m\"\u001b[39m\u001b[38;5;124mr\u001b[39m\u001b[38;5;124m\"\u001b[39m)\u001b[38;5;241m.\u001b[39mread()\u001b[38;5;241m.\u001b[39msplit(\u001b[38;5;124m\"\u001b[39m\u001b[38;5;130;01m\\n\u001b[39;00m\u001b[38;5;124m\"\u001b[39m))) \u001b[38;5;241m==\u001b[39m \u001b[38;5;241m35\u001b[39m\n",
      "\u001b[0;31mAssertionError\u001b[0m: "
     ]
    }
   ],
   "source": [
    "assert acount_lines(\"A4/file2.txt\", \"A4/out_again.txt\")\n",
    "assert os.path.exists(\"A4/out_again.txt\")\n",
    "assert int(\"\".join(open(\"A4/out_again.txt\", \"r\").read().split(\"\\n\"))) == 35"
   ]
  },
  {
   "cell_type": "code",
   "execution_count": 25,
   "metadata": {
    "nbgrader": {
     "grade": true,
     "grade_id": "q2c_test3",
     "locked": true,
     "points": 5,
     "schema_version": 1,
     "solution": false
    }
   },
   "outputs": [],
   "source": [
    "r1 = None\n",
    "try:\n",
    "    r1 = acount_lines(\"yet/another/nonexistent/path.txt\", \"meaningless\")\n",
    "except:\n",
    "    assert False\n",
    "else:\n",
    "    assert not r1\n",
    "\n",
    "r2 = None\n",
    "try:\n",
    "    r2 = acount_lines(\"A4/file2.txt\", \"/this/should/throw/an/error.txt\")\n",
    "except:\n",
    "    assert False\n",
    "else:\n",
    "    assert not r2"
   ]
  },
  {
   "cell_type": "code",
   "execution_count": null,
   "metadata": {},
   "outputs": [],
   "source": []
  }
 ],
 "metadata": {
  "anaconda-cloud": {},
  "celltoolbar": "Create Assignment",
  "kernelspec": {
   "display_name": "Python 3 (ipykernel)",
   "language": "python",
   "name": "python3"
  },
  "language_info": {
   "codemirror_mode": {
    "name": "ipython",
    "version": 3
   },
   "file_extension": ".py",
   "mimetype": "text/x-python",
   "name": "python",
   "nbconvert_exporter": "python",
   "pygments_lexer": "ipython3",
   "version": "3.9.12"
  }
 },
 "nbformat": 4,
 "nbformat_minor": 1
}
